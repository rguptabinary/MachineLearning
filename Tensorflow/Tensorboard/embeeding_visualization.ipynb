{
 "cells": [
  {
   "cell_type": "markdown",
   "metadata": {},
   "source": [
    "# Tensorboard\n",
    "Here we are going to visualize embeeding using tensorboard."
   ]
  },
  {
   "cell_type": "code",
   "execution_count": 1,
   "metadata": {
    "collapsed": true
   },
   "outputs": [],
   "source": [
    "import numpy as np\n",
    "import tensorflow as tf"
   ]
  },
  {
   "cell_type": "code",
   "execution_count": 3,
   "metadata": {},
   "outputs": [
    {
     "data": {
      "text/plain": [
       "'1.0.1'"
      ]
     },
     "execution_count": 3,
     "metadata": {},
     "output_type": "execute_result"
    }
   ],
   "source": [
    "tf.__version__"
   ]
  },
  {
   "cell_type": "code",
   "execution_count": null,
   "metadata": {},
   "outputs": [],
   "source": [
    "LOGDIR = "
   ]
  },
  {
   "cell_type": "code",
   "execution_count": 7,
   "metadata": {
    "collapsed": true
   },
   "outputs": [],
   "source": [
    "# Function to create a convolutional layer witf scoping of variables\n",
    "\n",
    "def conv_layer(name, _input, size_in, size_out):\n",
    "    with tf.name_scope(name, size_in, size_out):\n",
    "        w = tf.Variable(tf.truncated_normal((5, 5, size_in, size_out), stddev=.1), name='w_'+name)\n",
    "        b = tf.Variable(tf.constant(0.1, shape=[size_out]), name='b_'+name)\n",
    "        conv = tf.nn.conv2d(_input, w, strides=[1,1,1,1], padding='SAME', name='conv_'+name)\n",
    "        act = tf.nn.relu(conv + b)\n",
    "        tf.summary.histogram('weights', 'w_'+name)\n",
    "        tf.summary.histogram('biases', 'b_'+name)\n",
    "        tf.summary.histogram('activation', act)\n",
    "        return tf.nn.max_pool(act, ksize=[1,2,2,1], strides=[1,2,2,1], padding='SAME')\n",
    "        "
   ]
  },
  {
   "cell_type": "code",
   "execution_count": 8,
   "metadata": {
    "collapsed": true
   },
   "outputs": [],
   "source": [
    "# fully connected layer\n",
    "\n",
    "def fc_layer(name, _input, size_in, size_out):\n",
    "    w = tf.Variable(tf.truncated_normal([size_in, size_out], stddev=0.1), name='w_'+name)\n",
    "    b = tf.Variable(tf.truncated_normal([size_in, size_out], stddev=0.1), name='b_'+name)\n",
    "    act = tf.nn.relu(tf.matmul(_input, w) + b)\n",
    "    tf.summary.histogram('weights', 'w_'+name)\n",
    "    tf.summary.histogram('biases', 'b_'+name)\n",
    "    tf.summary.histogram('activation', act)\n",
    "    return act"
   ]
  },
  {
   "cell_type": "code",
   "execution_count": null,
   "metadata": {
    "collapsed": true
   },
   "outputs": [],
   "source": [
    "def mnist_model(learning_rate):\n",
    "    tf.reset_default_graph()\n",
    "    sess = tf.Session()\n",
    "    \n",
    "    x = tf.placeholder(dtype=tf.float32, shape=[None, 784], name='x')\n",
    "    # [-1, m*n, len([r,g,b])]\n",
    "    x_image = tf.placeholder(dtype=tf.float32, shape=[-1, 28, 28, 1])\n",
    "    tf.summary.image('input', x_image, 3)\n",
    "    \n",
    "    y = tf.placeholder(dtype=tf.float32, shape=[None, 10], name='labels')\n",
    "    "
   ]
  }
 ],
 "metadata": {
  "kernelspec": {
   "display_name": "Python 3",
   "language": "python",
   "name": "python3"
  },
  "language_info": {
   "codemirror_mode": {
    "name": "ipython",
    "version": 3
   },
   "file_extension": ".py",
   "mimetype": "text/x-python",
   "name": "python",
   "nbconvert_exporter": "python",
   "pygments_lexer": "ipython3",
   "version": "3.5.3"
  }
 },
 "nbformat": 4,
 "nbformat_minor": 2
}
